{
 "cells": [
  {
   "metadata": {
    "ExecuteTime": {
     "end_time": "2025-03-03T02:54:24.397566Z",
     "start_time": "2025-03-03T02:54:20.769704Z"
    }
   },
   "cell_type": "code",
   "source": [
    "import pandas as pd\n",
    "import torch\n",
    "import torch.nn as nn\n",
    "import torch.optim as optim\n",
    "from torch.utils.data import Dataset, DataLoader\n",
    "from sklearn.model_selection import train_test_split\n",
    "from sklearn.preprocessing import StandardScaler, LabelEncoder\n",
    "from tqdm import tqdm # not sure how much of a performance hit this is since its python while everything else is c\n",
    "import numpy as np\n",
    "\n",
    "DATA_PATH_TRAIN = 'data/train.csv'\n",
    "DATA_PATH_TEST = 'data/test.csv'\n",
    "BATCH_SIZE = 3000\n",
    "LEARNING_RATE = 0.001\n",
    "EPOCHS = 3000\n",
    "DEVICE = torch.device(\"cpu\")"
   ],
   "id": "4055e569927b4251",
   "outputs": [],
   "execution_count": 2
  },
  {
   "metadata": {
    "ExecuteTime": {
     "end_time": "2025-03-03T02:59:51.769891Z",
     "start_time": "2025-03-03T02:59:51.729622Z"
    }
   },
   "cell_type": "code",
   "source": [
    "train_df = pd.read_csv(DATA_PATH_TRAIN)\n",
    "test_df = pd.read_csv(DATA_PATH_TEST)\n",
    "\n",
    "# Separate target variable and IDs, then drop from respective DataFrames\n",
    "survived = train_df['Survived']\n",
    "test_ids = test_df['PassengerId']\n",
    "train_df = train_df.drop(columns=['PassengerId', 'Survived', 'Name', 'Ticket', 'Cabin'])\n",
    "test_df = test_df.drop(columns=['PassengerId', 'Name', 'Ticket', 'Cabin'])\n",
    "\n",
    "# Preprocessing function\n",
    "def preprocessdata(data, train_cols=None):\n",
    "    data.dropna(axis=1, thresh=int(0.85 * len(data)), inplace=True)\n",
    "\n",
    "    numeric_cols = data.select_dtypes(exclude=['object']).columns\n",
    "    categorical_cols = data.select_dtypes(include=['object']).columns\n",
    "\n",
    "    data[numeric_cols] = data[numeric_cols].fillna(data[numeric_cols].median())\n",
    "    data[categorical_cols] = data[categorical_cols].fillna('Unknown')\n",
    "\n",
    "    data = pd.get_dummies(data, columns=categorical_cols, dummy_na=False)\n",
    "\n",
    "    if train_cols is not None:\n",
    "        missing_cols = set(train_cols) - set(data.columns)\n",
    "        for c in missing_cols:\n",
    "            data[c] = 0\n",
    "        data = data[train_cols]\n",
    "\n",
    "    return data\n",
    "\n",
    "train = preprocessdata(train_df)\n",
    "test = preprocessdata(test_df, train_cols=train.columns)"
   ],
   "id": "aeda5ea7247a0cb3",
   "outputs": [],
   "execution_count": 6
  },
  {
   "metadata": {
    "ExecuteTime": {
     "end_time": "2025-03-03T03:01:02.802569Z",
     "start_time": "2025-03-03T03:01:02.781086Z"
    }
   },
   "cell_type": "code",
   "source": [
    "print(train)\n",
    "print(train.info())\n",
    "print(train.describe())"
   ],
   "id": "fa609e90f6ebc057",
   "outputs": [
    {
     "name": "stdout",
     "output_type": "stream",
     "text": [
      "     Pclass  SibSp  Parch     Fare  Sex_female  Sex_male  Embarked_C  \\\n",
      "0         3      1      0   7.2500       False      True       False   \n",
      "1         1      1      0  71.2833        True     False        True   \n",
      "2         3      0      0   7.9250        True     False       False   \n",
      "3         1      1      0  53.1000        True     False       False   \n",
      "4         3      0      0   8.0500       False      True       False   \n",
      "..      ...    ...    ...      ...         ...       ...         ...   \n",
      "886       2      0      0  13.0000       False      True       False   \n",
      "887       1      0      0  30.0000        True     False       False   \n",
      "888       3      1      2  23.4500        True     False       False   \n",
      "889       1      0      0  30.0000       False      True        True   \n",
      "890       3      0      0   7.7500       False      True       False   \n",
      "\n",
      "     Embarked_Q  Embarked_S  Embarked_Unknown  \n",
      "0         False        True             False  \n",
      "1         False       False             False  \n",
      "2         False        True             False  \n",
      "3         False        True             False  \n",
      "4         False        True             False  \n",
      "..          ...         ...               ...  \n",
      "886       False        True             False  \n",
      "887       False        True             False  \n",
      "888       False        True             False  \n",
      "889       False       False             False  \n",
      "890        True       False             False  \n",
      "\n",
      "[891 rows x 10 columns]\n",
      "<class 'pandas.core.frame.DataFrame'>\n",
      "RangeIndex: 891 entries, 0 to 890\n",
      "Data columns (total 10 columns):\n",
      " #   Column            Non-Null Count  Dtype  \n",
      "---  ------            --------------  -----  \n",
      " 0   Pclass            891 non-null    int64  \n",
      " 1   SibSp             891 non-null    int64  \n",
      " 2   Parch             891 non-null    int64  \n",
      " 3   Fare              891 non-null    float64\n",
      " 4   Sex_female        891 non-null    bool   \n",
      " 5   Sex_male          891 non-null    bool   \n",
      " 6   Embarked_C        891 non-null    bool   \n",
      " 7   Embarked_Q        891 non-null    bool   \n",
      " 8   Embarked_S        891 non-null    bool   \n",
      " 9   Embarked_Unknown  891 non-null    bool   \n",
      "dtypes: bool(6), float64(1), int64(3)\n",
      "memory usage: 33.2 KB\n",
      "None\n",
      "           Pclass       SibSp       Parch        Fare\n",
      "count  891.000000  891.000000  891.000000  891.000000\n",
      "mean     2.308642    0.523008    0.381594   32.204208\n",
      "std      0.836071    1.102743    0.806057   49.693429\n",
      "min      1.000000    0.000000    0.000000    0.000000\n",
      "25%      2.000000    0.000000    0.000000    7.910400\n",
      "50%      3.000000    0.000000    0.000000   14.454200\n",
      "75%      3.000000    1.000000    0.000000   31.000000\n",
      "max      3.000000    8.000000    6.000000  512.329200\n"
     ]
    }
   ],
   "execution_count": 8
  }
 ],
 "metadata": {
  "kernelspec": {
   "display_name": "Python 3",
   "language": "python",
   "name": "python3"
  },
  "language_info": {
   "codemirror_mode": {
    "name": "ipython",
    "version": 2
   },
   "file_extension": ".py",
   "mimetype": "text/x-python",
   "name": "python",
   "nbconvert_exporter": "python",
   "pygments_lexer": "ipython2",
   "version": "2.7.6"
  }
 },
 "nbformat": 4,
 "nbformat_minor": 5
}
